{
  "nbformat": 4,
  "nbformat_minor": 0,
  "metadata": {
    "colab": {
      "name": "sentiment-analysis_rnn.ipynb",
      "provenance": []
    },
    "kernelspec": {
      "name": "python3",
      "display_name": "Python 3"
    },
    "language_info": {
      "name": "python"
    }
  },
  "cells": [
    {
      "cell_type": "markdown",
      "source": [
        "# Sentiment Analysis with Recurrent Neural Networks"
      ],
      "metadata": {
        "id": "KSqUKVGv1ZE7"
      }
    },
    {
      "cell_type": "markdown",
      "source": [
        "### Import Data and Libraries"
      ],
      "metadata": {
        "id": "TxegyeX30-bL"
      }
    },
    {
      "cell_type": "code",
      "source": [
        "import numpy as np\n",
        "import tensorflow as tf\n",
        "import tensorflow_datasets as tfds"
      ],
      "metadata": {
        "id": "LbX-6gNW4Gw3"
      },
      "execution_count": 1,
      "outputs": []
    },
    {
      "cell_type": "code",
      "source": [
        "reviewsData, info = tfds.load('imdb_reviews', with_info=True, as_supervised=True)"
      ],
      "metadata": {
        "id": "YkQTn0Zo4ILD"
      },
      "execution_count": 7,
      "outputs": []
    },
    {
      "cell_type": "code",
      "source": [
        "reviewsData"
      ],
      "metadata": {
        "colab": {
          "base_uri": "https://localhost:8080/"
        },
        "id": "Lbl88Pe14z9J",
        "outputId": "f6388d10-e1bf-4810-8ee1-bde7d6d0f919"
      },
      "execution_count": 8,
      "outputs": [
        {
          "output_type": "execute_result",
          "data": {
            "text/plain": [
              "{'test': <PrefetchDataset shapes: ((), ()), types: (tf.string, tf.int64)>,\n",
              " 'train': <PrefetchDataset shapes: ((), ()), types: (tf.string, tf.int64)>,\n",
              " 'unsupervised': <PrefetchDataset shapes: ((), ()), types: (tf.string, tf.int64)>}"
            ]
          },
          "metadata": {},
          "execution_count": 8
        }
      ]
    },
    {
      "cell_type": "code",
      "source": [
        "trainData = reviewsData['train']\n",
        "testData = reviewsData['test']"
      ],
      "metadata": {
        "id": "HbCOkp215FOS"
      },
      "execution_count": 9,
      "outputs": []
    },
    {
      "cell_type": "code",
      "source": [
        "for feature, label in trainData.take(5):\n",
        "  print(f\"feature (movie review): {feature}\")\n",
        "  print(f\"label (sentiment): {label}\")"
      ],
      "metadata": {
        "colab": {
          "base_uri": "https://localhost:8080/"
        },
        "id": "pa0OaBIp4_TH",
        "outputId": "a9aef280-6074-4a2e-a002-6750aec60823"
      },
      "execution_count": 10,
      "outputs": [
        {
          "output_type": "stream",
          "name": "stdout",
          "text": [
            "feature (movie review): b\"This was an absolutely terrible movie. Don't be lured in by Christopher Walken or Michael Ironside. Both are great actors, but this must simply be their worst role in history. Even their great acting could not redeem this movie's ridiculous storyline. This movie is an early nineties US propaganda piece. The most pathetic scenes were those when the Columbian rebels were making their cases for revolutions. Maria Conchita Alonso appeared phony, and her pseudo-love affair with Walken was nothing but a pathetic emotional plug in a movie that was devoid of any real meaning. I am disappointed that there are movies like this, ruining actor's like Christopher Walken's good name. I could barely sit through it.\"\n",
            "label (sentiment): 0\n",
            "feature (movie review): b'I have been known to fall asleep during films, but this is usually due to a combination of things including, really tired, being warm and comfortable on the sette and having just eaten a lot. However on this occasion I fell asleep because the film was rubbish. The plot development was constant. Constantly slow and boring. Things seemed to happen, but with no explanation of what was causing them or why. I admit, I may have missed part of the film, but i watched the majority of it and everything just seemed to happen of its own accord without any real concern for anything else. I cant recommend this film at all.'\n",
            "label (sentiment): 0\n",
            "feature (movie review): b'Mann photographs the Alberta Rocky Mountains in a superb fashion, and Jimmy Stewart and Walter Brennan give enjoyable performances as they always seem to do. <br /><br />But come on Hollywood - a Mountie telling the people of Dawson City, Yukon to elect themselves a marshal (yes a marshal!) and to enforce the law themselves, then gunfighters battling it out on the streets for control of the town? <br /><br />Nothing even remotely resembling that happened on the Canadian side of the border during the Klondike gold rush. Mr. Mann and company appear to have mistaken Dawson City for Deadwood, the Canadian North for the American Wild West.<br /><br />Canadian viewers be prepared for a Reefer Madness type of enjoyable howl with this ludicrous plot, or, to shake your head in disgust.'\n",
            "label (sentiment): 0\n",
            "feature (movie review): b'This is the kind of film for a snowy Sunday afternoon when the rest of the world can go ahead with its own business as you descend into a big arm-chair and mellow for a couple of hours. Wonderful performances from Cher and Nicolas Cage (as always) gently row the plot along. There are no rapids to cross, no dangerous waters, just a warm and witty paddle through New York life at its best. A family film in every sense and one that deserves the praise it received.'\n",
            "label (sentiment): 1\n",
            "feature (movie review): b'As others have mentioned, all the women that go nude in this film are mostly absolutely gorgeous. The plot very ably shows the hypocrisy of the female libido. When men are around they want to be pursued, but when no \"men\" are around, they become the pursuers of a 14 year old boy. And the boy becomes a man really fast (we should all be so lucky at this age!). He then gets up the courage to pursue his true love.'\n",
            "label (sentiment): 1\n"
          ]
        }
      ]
    },
    {
      "cell_type": "code",
      "source": [
        ""
      ],
      "metadata": {
        "id": "m_dOy3ox4wQy"
      },
      "execution_count": null,
      "outputs": []
    },
    {
      "cell_type": "markdown",
      "source": [
        "### Text Preprocessing"
      ],
      "metadata": {
        "id": "Ft-tkKhr1Aww"
      }
    },
    {
      "cell_type": "code",
      "source": [
        "# The number of uniques words in the preprocessed corpus\n",
        "vocabSize = 1000\n",
        "\n",
        "# Tokenize and Encode\n",
        "# Steps: \n",
        "# 1. Standardize each example (usually lowercasing + punctuation stripping)\n",
        "# 2. Split each example into substrings (usually words)\n",
        "# 3. Recombine substrings into tokens (usually ngrams)\n",
        "# 4. Index tokens (associate a unique int value with each token)\n",
        "# 5. Transform each example using this index, either into a vector of ints or a dense float vector.\n",
        "\n",
        "encoded_vectors = tf.keras.layers.experimental.preprocessing.TextVectorization(max_tokens=vocabSize)\n",
        "\n",
        "featureTokens = trainData.map(lambda review, sentiment: review)\n",
        "encoded_vectors.adapt(featureTokens)"
      ],
      "metadata": {
        "id": "pwUQ1Arl6OaD"
      },
      "execution_count": 14,
      "outputs": []
    },
    {
      "cell_type": "code",
      "source": [
        "feature.numpy()[0:100]"
      ],
      "metadata": {
        "colab": {
          "base_uri": "https://localhost:8080/"
        },
        "id": "i1lTVjA49ZDt",
        "outputId": "54aed288-3034-498f-bc44-3c3937fdd30f"
      },
      "execution_count": 16,
      "outputs": [
        {
          "output_type": "execute_result",
          "data": {
            "text/plain": [
              "b'As others have mentioned, all the women that go nude in this film are mostly absolutely gorgeous. Th'"
            ]
          },
          "metadata": {},
          "execution_count": 16
        }
      ]
    },
    {
      "cell_type": "code",
      "source": [
        "encoded_vectors(feature).numpy()[0:100]"
      ],
      "metadata": {
        "colab": {
          "base_uri": "https://localhost:8080/"
        },
        "id": "ulssj18W9rD0",
        "outputId": "79ffab09-02e4-4574-8dc4-1ba5221d633d"
      },
      "execution_count": 17,
      "outputs": [
        {
          "output_type": "execute_result",
          "data": {
            "text/plain": [
              "array([ 15, 377,  26,   1,  32,   2, 362,  12, 138,   1,   8,  11,  20,\n",
              "        24, 639, 412,   1,   2, 114,  53,   1, 265,   2,   1,   5,   2,\n",
              "       653,   1,  51, 346,  24, 184,  35, 178,   6,  28,   1,  19,  51,\n",
              "        57, 346,  24, 184,  35, 396,   2,   1,   5,   4,   1, 336, 165,\n",
              "       444,   3,   2, 444, 440,   4, 133,  63, 828,  72, 139,  32,  28,\n",
              "        38,   1,  31,  11, 582,  27,  92, 202,  58,   2,   1,   6,   1,\n",
              "        25, 281, 116])"
            ]
          },
          "metadata": {},
          "execution_count": 17
        }
      ]
    },
    {
      "cell_type": "code",
      "source": [
        "vocab = np.array( encoded_vectors.get_vocabulary() )\n",
        "vocab[0:100]"
      ],
      "metadata": {
        "colab": {
          "base_uri": "https://localhost:8080/"
        },
        "id": "EvuAhy92-VJd",
        "outputId": "6e2dda63-5282-4492-c6d7-f6d5ee1cb35a"
      },
      "execution_count": 18,
      "outputs": [
        {
          "output_type": "execute_result",
          "data": {
            "text/plain": [
              "array(['', '[UNK]', 'the', 'and', 'a', 'of', 'to', 'is', 'in', 'it', 'i',\n",
              "       'this', 'that', 'br', 'was', 'as', 'for', 'with', 'movie', 'but',\n",
              "       'film', 'on', 'not', 'you', 'are', 'his', 'have', 'he', 'be',\n",
              "       'one', 'its', 'at', 'all', 'by', 'an', 'they', 'from', 'who', 'so',\n",
              "       'like', 'her', 'just', 'or', 'about', 'has', 'if', 'out', 'some',\n",
              "       'there', 'what', 'good', 'when', 'more', 'very', 'even', 'she',\n",
              "       'my', 'no', 'up', 'would', 'which', 'only', 'time', 'really',\n",
              "       'story', 'their', 'were', 'had', 'see', 'can', 'me', 'than', 'we',\n",
              "       'much', 'well', 'been', 'get', 'will', 'into', 'also', 'because',\n",
              "       'other', 'do', 'people', 'bad', 'great', 'first', 'how', 'most',\n",
              "       'him', 'dont', 'made', 'then', 'movies', 'make', 'films', 'could',\n",
              "       'way', 'them', 'any'], dtype='<U14')"
            ]
          },
          "metadata": {},
          "execution_count": 18
        }
      ]
    },
    {
      "cell_type": "markdown",
      "source": [
        "### Building the Neural Network"
      ],
      "metadata": {
        "id": "LOV57efd1EQ9"
      }
    },
    {
      "cell_type": "code",
      "source": [
        "modelRNN = tf.keras.Sequential()\n",
        "\n",
        "# Add Encoder Layer\n",
        "modelRNN.add( encoder )\n",
        "\n",
        "# Add Embedding Layer\n",
        "modelRNN.add(\n",
        "    tf.keras.layers.Embedding(\n",
        "        input_dim=len(encoder.get_vocabulary()),\n",
        "        output_dim=64,\n",
        "        mask_zero=True\n",
        "    )   \n",
        ")\n",
        "\n",
        "# Add Bidirectional Layer\n",
        "modelRNN.add(\n",
        "  tf.keras.layers.Bidirectional(\n",
        "      tf.keras.layers.LSTM(64)\n",
        "  )\n",
        ")\n",
        "\n",
        "# Add Dense Layer\n",
        "modelRNN.add(\n",
        "  tf.keras.layers.Dense(64, activation='relu')   \n",
        ")\n",
        "\n",
        "# Add Output Layer\n",
        "modelRNN.add(\n",
        "  tf.keras.layers.Dense(1)   \n",
        ")"
      ],
      "metadata": {
        "id": "NtQv4uKIfXnC"
      },
      "execution_count": null,
      "outputs": []
    },
    {
      "cell_type": "code",
      "source": [
        "# Compile the model\n",
        "modelRNN.compile(\n",
        "    loss=tf.keras.losses.BinaryCrossentropy(from_logits=False),\n",
        "    optimizer='adam',\n",
        "    metrics=['accuracy']\n",
        ")"
      ],
      "metadata": {
        "id": "5bPe3gF6fffP"
      },
      "execution_count": null,
      "outputs": []
    },
    {
      "cell_type": "markdown",
      "source": [
        "### Train & Test"
      ],
      "metadata": {
        "id": "0YSlIbhM1NsQ"
      }
    },
    {
      "cell_type": "code",
      "source": [
        "# Fit the model (i.e, train the model)\n",
        "modelRNN.fit( trainData, epochs=1 )"
      ],
      "metadata": {
        "id": "9R7U86Pjfi__"
      },
      "execution_count": null,
      "outputs": []
    },
    {
      "cell_type": "markdown",
      "source": [
        "### Metrics"
      ],
      "metadata": {
        "id": "jL0mOJsM1Q5O"
      }
    },
    {
      "cell_type": "code",
      "source": [
        "loss_test, accuracy_test = modelRNN.evaluate(testData)\n",
        "\n",
        "print('Loss', loss_test)\n",
        "print('Accuracy', accuracy_test)"
      ],
      "metadata": {
        "id": "RIPm6k7cfudF"
      },
      "execution_count": null,
      "outputs": []
    },
    {
      "cell_type": "markdown",
      "source": [
        "### Predict Sample Reviews"
      ],
      "metadata": {
        "id": "PM_UHuI31Vog"
      }
    },
    {
      "cell_type": "code",
      "source": [
        "sampleMovieReviews = [\n",
        "    'Watched the movie with the family. Everyone loved it! Funny, educating, and inspirational! Definitely recommend it watching.',\n",
        "    'This is a movie?! More like a nightmare! What the hell did I just watch?? Where did you find the cast? Are they humans?',\n",
        "    'I loved this movie very much! Would definitely watch again!',\n",
        "]\n",
        "\n",
        "predictedSentiments = modelRNN.predict( np.array(sampleMovieReviews) )\n",
        "\n",
        "print( predictedSentiments )"
      ],
      "metadata": {
        "id": "yOAaSmpPfqNd"
      },
      "execution_count": null,
      "outputs": []
    }
  ]
}