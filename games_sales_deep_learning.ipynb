{
  "nbformat": 4,
  "nbformat_minor": 0,
  "metadata": {
    "colab": {
      "name": "games-sales_deep-learning.ipynb",
      "provenance": []
    },
    "kernelspec": {
      "name": "python3",
      "display_name": "Python 3"
    },
    "language_info": {
      "name": "python"
    }
  },
  "cells": [
    {
      "cell_type": "markdown",
      "source": [
        "# Deep Learning for Predicting Sales "
      ],
      "metadata": {
        "id": "bUWrmmCP4WDP"
      }
    },
    {
      "cell_type": "markdown",
      "source": [
        "### Import Data and Libraries"
      ],
      "metadata": {
        "id": "crWEOtwR4cfZ"
      }
    },
    {
      "cell_type": "code",
      "source": [
        "import pandas as pd\n",
        "\n",
        "# Sequential will be used to stack the layers\n",
        "# of the Neural Networks: \n",
        "# (1) Input Layer\n",
        "# (2) Hidden Layers\n",
        "# (3) Output Layer\n",
        "from keras.models import Sequential\n",
        "\n",
        "# Import the layers for the Deep Learning model\n",
        "from keras.layers import *"
      ],
      "metadata": {
        "id": "VVBZFv-Z45Ya"
      },
      "execution_count": 16,
      "outputs": []
    },
    {
      "cell_type": "code",
      "source": [
        "trainDf = pd.read_csv('./sales_data_train_scaled.csv')\n",
        "trainDf.head()"
      ],
      "metadata": {
        "colab": {
          "base_uri": "https://localhost:8080/",
          "height": 226
        },
        "id": "ZOsLlRsq5d8C",
        "outputId": "1882341f-be23-43d8-de1d-31a94f157b59"
      },
      "execution_count": 17,
      "outputs": [
        {
          "output_type": "execute_result",
          "data": {
            "text/html": [
              "<div>\n",
              "<style scoped>\n",
              "    .dataframe tbody tr th:only-of-type {\n",
              "        vertical-align: middle;\n",
              "    }\n",
              "\n",
              "    .dataframe tbody tr th {\n",
              "        vertical-align: top;\n",
              "    }\n",
              "\n",
              "    .dataframe thead th {\n",
              "        text-align: right;\n",
              "    }\n",
              "</style>\n",
              "<table border=\"1\" class=\"dataframe\">\n",
              "  <thead>\n",
              "    <tr style=\"text-align: right;\">\n",
              "      <th></th>\n",
              "      <th>critic_rating</th>\n",
              "      <th>is_action</th>\n",
              "      <th>is_exclusive_to_us</th>\n",
              "      <th>is_portable</th>\n",
              "      <th>is_role_playing</th>\n",
              "      <th>is_sequel</th>\n",
              "      <th>is_sports</th>\n",
              "      <th>suitable_for_kids</th>\n",
              "      <th>total_earnings</th>\n",
              "      <th>unit_price</th>\n",
              "    </tr>\n",
              "  </thead>\n",
              "  <tbody>\n",
              "    <tr>\n",
              "      <th>0</th>\n",
              "      <td>0.500000</td>\n",
              "      <td>1.0</td>\n",
              "      <td>0.0</td>\n",
              "      <td>1.0</td>\n",
              "      <td>0.0</td>\n",
              "      <td>1.0</td>\n",
              "      <td>0.0</td>\n",
              "      <td>0.0</td>\n",
              "      <td>0.374714</td>\n",
              "      <td>1.0</td>\n",
              "    </tr>\n",
              "    <tr>\n",
              "      <th>1</th>\n",
              "      <td>0.833333</td>\n",
              "      <td>0.0</td>\n",
              "      <td>0.0</td>\n",
              "      <td>0.0</td>\n",
              "      <td>0.0</td>\n",
              "      <td>1.0</td>\n",
              "      <td>1.0</td>\n",
              "      <td>0.0</td>\n",
              "      <td>0.192425</td>\n",
              "      <td>0.5</td>\n",
              "    </tr>\n",
              "    <tr>\n",
              "      <th>2</th>\n",
              "      <td>0.333333</td>\n",
              "      <td>0.0</td>\n",
              "      <td>0.0</td>\n",
              "      <td>0.0</td>\n",
              "      <td>0.0</td>\n",
              "      <td>1.0</td>\n",
              "      <td>1.0</td>\n",
              "      <td>0.0</td>\n",
              "      <td>0.114852</td>\n",
              "      <td>0.5</td>\n",
              "    </tr>\n",
              "    <tr>\n",
              "      <th>3</th>\n",
              "      <td>0.833333</td>\n",
              "      <td>1.0</td>\n",
              "      <td>0.0</td>\n",
              "      <td>0.0</td>\n",
              "      <td>0.0</td>\n",
              "      <td>0.0</td>\n",
              "      <td>0.0</td>\n",
              "      <td>1.0</td>\n",
              "      <td>0.142452</td>\n",
              "      <td>0.0</td>\n",
              "    </tr>\n",
              "    <tr>\n",
              "      <th>4</th>\n",
              "      <td>0.666667</td>\n",
              "      <td>1.0</td>\n",
              "      <td>0.0</td>\n",
              "      <td>1.0</td>\n",
              "      <td>0.0</td>\n",
              "      <td>1.0</td>\n",
              "      <td>0.0</td>\n",
              "      <td>1.0</td>\n",
              "      <td>0.480682</td>\n",
              "      <td>1.0</td>\n",
              "    </tr>\n",
              "  </tbody>\n",
              "</table>\n",
              "</div>"
            ],
            "text/plain": [
              "   critic_rating  is_action  ...  total_earnings  unit_price\n",
              "0       0.500000        1.0  ...        0.374714         1.0\n",
              "1       0.833333        0.0  ...        0.192425         0.5\n",
              "2       0.333333        0.0  ...        0.114852         0.5\n",
              "3       0.833333        1.0  ...        0.142452         0.0\n",
              "4       0.666667        1.0  ...        0.480682         1.0\n",
              "\n",
              "[5 rows x 10 columns]"
            ]
          },
          "metadata": {},
          "execution_count": 17
        }
      ]
    },
    {
      "cell_type": "code",
      "source": [
        "# For reference, see the unscaled data\n",
        "pd.read_csv('./sales_data_train.csv')['total_earnings']"
      ],
      "metadata": {
        "colab": {
          "base_uri": "https://localhost:8080/"
        },
        "id": "W1KBQyWfErod",
        "outputId": "989f2109-d6c5-436f-f0db-cfa3bad85def"
      },
      "execution_count": 18,
      "outputs": [
        {
          "output_type": "execute_result",
          "data": {
            "text/plain": [
              "0      132717\n",
              "1       83407\n",
              "2       62423\n",
              "3       69889\n",
              "4      161382\n",
              "        ...  \n",
              "995    105793\n",
              "996     86313\n",
              "997    196383\n",
              "998     97972\n",
              "999     89874\n",
              "Name: total_earnings, Length: 1000, dtype: int64"
            ]
          },
          "metadata": {},
          "execution_count": 18
        }
      ]
    },
    {
      "cell_type": "markdown",
      "source": [
        "### Building the Neural Network"
      ],
      "metadata": {
        "id": "ToSzDrKO4fMQ"
      }
    },
    {
      "cell_type": "code",
      "source": [
        "# Instantiate the Sequential model\n",
        "model = Sequential()\n",
        "\n",
        "# Input Layer\n",
        "model.add(\n",
        "    Dense(50, input_dim=9, activation='relu')\n",
        ")\n",
        "\n",
        "# Hidden Layer(s)\n",
        "model.add(\n",
        "    Dense(100, activation='relu')\n",
        ")\n",
        "model.add(\n",
        "    Dense(50, activation='relu')\n",
        ")\n",
        "\n",
        "# Output Layer\n",
        "model.add(\n",
        "    Dense(1, activation='linear')\n",
        ")\n",
        "\n",
        "\n",
        "# Compile the model\n",
        "# ADAM (ADAptive Moment Estimation) is an algorithm for \n",
        "# calculating the loss of a model given the weight space\n",
        "model.compile(loss='mean_squared_error', optimizer='adam')"
      ],
      "metadata": {
        "id": "9mHLvVn9EiTt"
      },
      "execution_count": 19,
      "outputs": []
    },
    {
      "cell_type": "markdown",
      "source": [
        "### Train & Test"
      ],
      "metadata": {
        "id": "Zv8cHv4T4oTq"
      }
    },
    {
      "cell_type": "code",
      "source": [
        "# For TensorFlow, only values of the DataFrame are required\n",
        "features = trainDf.drop('total_earnings', axis=1, inplace=False).values\n",
        "label = trainDf[['total_earnings']].values"
      ],
      "metadata": {
        "id": "C4dX_uWZW7kG"
      },
      "execution_count": 20,
      "outputs": []
    },
    {
      "cell_type": "code",
      "source": [
        "# Note:\n",
        "# epohcs is the number of times the data is passed through\n",
        "# the network\n",
        "\n",
        "# verbose controls the amount of log data output by TensorFlow\n",
        "model.fit(features, label, epochs=50, shuffle=True, verbose=2)"
      ],
      "metadata": {
        "colab": {
          "base_uri": "https://localhost:8080/"
        },
        "id": "viphhmj_X9Z7",
        "outputId": "55b478db-df31-46a2-b100-a6f4f1389e81"
      },
      "execution_count": 21,
      "outputs": [
        {
          "output_type": "stream",
          "name": "stdout",
          "text": [
            "Epoch 1/50\n",
            "32/32 - 1s - loss: 0.0268 - 666ms/epoch - 21ms/step\n",
            "Epoch 2/50\n",
            "32/32 - 0s - loss: 0.0040 - 47ms/epoch - 1ms/step\n",
            "Epoch 3/50\n",
            "32/32 - 0s - loss: 0.0013 - 45ms/epoch - 1ms/step\n",
            "Epoch 4/50\n",
            "32/32 - 0s - loss: 6.1065e-04 - 51ms/epoch - 2ms/step\n",
            "Epoch 5/50\n",
            "32/32 - 0s - loss: 3.5047e-04 - 49ms/epoch - 2ms/step\n",
            "Epoch 6/50\n",
            "32/32 - 0s - loss: 2.3427e-04 - 48ms/epoch - 2ms/step\n",
            "Epoch 7/50\n",
            "32/32 - 0s - loss: 1.7644e-04 - 51ms/epoch - 2ms/step\n",
            "Epoch 8/50\n",
            "32/32 - 0s - loss: 1.3051e-04 - 53ms/epoch - 2ms/step\n",
            "Epoch 9/50\n",
            "32/32 - 0s - loss: 1.0441e-04 - 87ms/epoch - 3ms/step\n",
            "Epoch 10/50\n",
            "32/32 - 0s - loss: 8.8749e-05 - 93ms/epoch - 3ms/step\n",
            "Epoch 11/50\n",
            "32/32 - 0s - loss: 7.5351e-05 - 95ms/epoch - 3ms/step\n",
            "Epoch 12/50\n",
            "32/32 - 0s - loss: 7.4010e-05 - 79ms/epoch - 2ms/step\n",
            "Epoch 13/50\n",
            "32/32 - 0s - loss: 5.2091e-05 - 49ms/epoch - 2ms/step\n",
            "Epoch 14/50\n",
            "32/32 - 0s - loss: 4.3948e-05 - 45ms/epoch - 1ms/step\n",
            "Epoch 15/50\n",
            "32/32 - 0s - loss: 4.4228e-05 - 53ms/epoch - 2ms/step\n",
            "Epoch 16/50\n",
            "32/32 - 0s - loss: 3.4738e-05 - 51ms/epoch - 2ms/step\n",
            "Epoch 17/50\n",
            "32/32 - 0s - loss: 3.9221e-05 - 48ms/epoch - 2ms/step\n",
            "Epoch 18/50\n",
            "32/32 - 0s - loss: 3.0436e-05 - 52ms/epoch - 2ms/step\n",
            "Epoch 19/50\n",
            "32/32 - 0s - loss: 3.2264e-05 - 52ms/epoch - 2ms/step\n",
            "Epoch 20/50\n",
            "32/32 - 0s - loss: 2.9705e-05 - 51ms/epoch - 2ms/step\n",
            "Epoch 21/50\n",
            "32/32 - 0s - loss: 2.8910e-05 - 50ms/epoch - 2ms/step\n",
            "Epoch 22/50\n",
            "32/32 - 0s - loss: 2.8606e-05 - 50ms/epoch - 2ms/step\n",
            "Epoch 23/50\n",
            "32/32 - 0s - loss: 2.6369e-05 - 55ms/epoch - 2ms/step\n",
            "Epoch 24/50\n",
            "32/32 - 0s - loss: 2.3032e-05 - 52ms/epoch - 2ms/step\n",
            "Epoch 25/50\n",
            "32/32 - 0s - loss: 2.3279e-05 - 56ms/epoch - 2ms/step\n",
            "Epoch 26/50\n",
            "32/32 - 0s - loss: 2.1017e-05 - 64ms/epoch - 2ms/step\n",
            "Epoch 27/50\n",
            "32/32 - 0s - loss: 2.4067e-05 - 59ms/epoch - 2ms/step\n",
            "Epoch 28/50\n",
            "32/32 - 0s - loss: 2.3808e-05 - 55ms/epoch - 2ms/step\n",
            "Epoch 29/50\n",
            "32/32 - 0s - loss: 1.9748e-05 - 52ms/epoch - 2ms/step\n",
            "Epoch 30/50\n",
            "32/32 - 0s - loss: 2.7880e-05 - 51ms/epoch - 2ms/step\n",
            "Epoch 31/50\n",
            "32/32 - 0s - loss: 2.2063e-05 - 57ms/epoch - 2ms/step\n",
            "Epoch 32/50\n",
            "32/32 - 0s - loss: 2.0703e-05 - 54ms/epoch - 2ms/step\n",
            "Epoch 33/50\n",
            "32/32 - 0s - loss: 3.0552e-05 - 61ms/epoch - 2ms/step\n",
            "Epoch 34/50\n",
            "32/32 - 0s - loss: 2.3784e-05 - 51ms/epoch - 2ms/step\n",
            "Epoch 35/50\n",
            "32/32 - 0s - loss: 1.8867e-05 - 51ms/epoch - 2ms/step\n",
            "Epoch 36/50\n",
            "32/32 - 0s - loss: 1.9603e-05 - 80ms/epoch - 3ms/step\n",
            "Epoch 37/50\n",
            "32/32 - 0s - loss: 1.8835e-05 - 75ms/epoch - 2ms/step\n",
            "Epoch 38/50\n",
            "32/32 - 0s - loss: 3.4907e-05 - 77ms/epoch - 2ms/step\n",
            "Epoch 39/50\n",
            "32/32 - 0s - loss: 3.9253e-05 - 78ms/epoch - 2ms/step\n",
            "Epoch 40/50\n",
            "32/32 - 0s - loss: 2.9859e-05 - 57ms/epoch - 2ms/step\n",
            "Epoch 41/50\n",
            "32/32 - 0s - loss: 2.7146e-05 - 72ms/epoch - 2ms/step\n",
            "Epoch 42/50\n",
            "32/32 - 0s - loss: 2.6984e-05 - 47ms/epoch - 1ms/step\n",
            "Epoch 43/50\n",
            "32/32 - 0s - loss: 1.9277e-05 - 50ms/epoch - 2ms/step\n",
            "Epoch 44/50\n",
            "32/32 - 0s - loss: 2.6880e-05 - 52ms/epoch - 2ms/step\n",
            "Epoch 45/50\n",
            "32/32 - 0s - loss: 3.0318e-05 - 53ms/epoch - 2ms/step\n",
            "Epoch 46/50\n",
            "32/32 - 0s - loss: 1.7596e-05 - 49ms/epoch - 2ms/step\n",
            "Epoch 47/50\n",
            "32/32 - 0s - loss: 1.6654e-05 - 51ms/epoch - 2ms/step\n",
            "Epoch 48/50\n",
            "32/32 - 0s - loss: 1.9607e-05 - 53ms/epoch - 2ms/step\n",
            "Epoch 49/50\n",
            "32/32 - 0s - loss: 1.7213e-05 - 54ms/epoch - 2ms/step\n",
            "Epoch 50/50\n",
            "32/32 - 0s - loss: 2.9025e-05 - 48ms/epoch - 2ms/step\n"
          ]
        },
        {
          "output_type": "execute_result",
          "data": {
            "text/plain": [
              "<keras.callbacks.History at 0x7f8299e930d0>"
            ]
          },
          "metadata": {},
          "execution_count": 15
        },
        {
          "output_type": "stream",
          "name": "stdout",
          "text": [
            "Epoch 1/50\n",
            "32/32 - 0s - loss: 0.0181 - 416ms/epoch - 13ms/step\n",
            "Epoch 2/50\n",
            "32/32 - 0s - loss: 0.0023 - 46ms/epoch - 1ms/step\n",
            "Epoch 3/50\n",
            "32/32 - 0s - loss: 6.1527e-04 - 46ms/epoch - 1ms/step\n",
            "Epoch 4/50\n",
            "32/32 - 0s - loss: 3.0901e-04 - 46ms/epoch - 1ms/step\n",
            "Epoch 5/50\n",
            "32/32 - 0s - loss: 2.0031e-04 - 47ms/epoch - 1ms/step\n",
            "Epoch 6/50\n",
            "32/32 - 0s - loss: 1.5843e-04 - 49ms/epoch - 2ms/step\n",
            "Epoch 7/50\n",
            "32/32 - 0s - loss: 1.2567e-04 - 54ms/epoch - 2ms/step\n",
            "Epoch 8/50\n",
            "32/32 - 0s - loss: 1.0569e-04 - 58ms/epoch - 2ms/step\n",
            "Epoch 9/50\n",
            "32/32 - 0s - loss: 8.6995e-05 - 56ms/epoch - 2ms/step\n",
            "Epoch 10/50\n",
            "32/32 - 0s - loss: 7.4868e-05 - 66ms/epoch - 2ms/step\n",
            "Epoch 11/50\n",
            "32/32 - 0s - loss: 6.4454e-05 - 63ms/epoch - 2ms/step\n",
            "Epoch 12/50\n",
            "32/32 - 0s - loss: 5.8242e-05 - 52ms/epoch - 2ms/step\n",
            "Epoch 13/50\n",
            "32/32 - 0s - loss: 5.2715e-05 - 51ms/epoch - 2ms/step\n",
            "Epoch 14/50\n",
            "32/32 - 0s - loss: 5.6131e-05 - 51ms/epoch - 2ms/step\n",
            "Epoch 15/50\n",
            "32/32 - 0s - loss: 4.6017e-05 - 61ms/epoch - 2ms/step\n",
            "Epoch 16/50\n",
            "32/32 - 0s - loss: 4.8012e-05 - 65ms/epoch - 2ms/step\n",
            "Epoch 17/50\n",
            "32/32 - 0s - loss: 4.0490e-05 - 61ms/epoch - 2ms/step\n",
            "Epoch 18/50\n",
            "32/32 - 0s - loss: 3.7295e-05 - 77ms/epoch - 2ms/step\n",
            "Epoch 19/50\n",
            "32/32 - 0s - loss: 3.2463e-05 - 53ms/epoch - 2ms/step\n",
            "Epoch 20/50\n",
            "32/32 - 0s - loss: 3.2720e-05 - 51ms/epoch - 2ms/step\n",
            "Epoch 21/50\n",
            "32/32 - 0s - loss: 3.4005e-05 - 51ms/epoch - 2ms/step\n",
            "Epoch 22/50\n",
            "32/32 - 0s - loss: 4.6737e-05 - 51ms/epoch - 2ms/step\n",
            "Epoch 23/50\n",
            "32/32 - 0s - loss: 3.2606e-05 - 54ms/epoch - 2ms/step\n",
            "Epoch 24/50\n",
            "32/32 - 0s - loss: 2.8806e-05 - 52ms/epoch - 2ms/step\n",
            "Epoch 25/50\n",
            "32/32 - 0s - loss: 2.9920e-05 - 52ms/epoch - 2ms/step\n",
            "Epoch 26/50\n",
            "32/32 - 0s - loss: 2.7321e-05 - 52ms/epoch - 2ms/step\n",
            "Epoch 27/50\n",
            "32/32 - 0s - loss: 2.4285e-05 - 53ms/epoch - 2ms/step\n",
            "Epoch 28/50\n",
            "32/32 - 0s - loss: 2.1873e-05 - 55ms/epoch - 2ms/step\n",
            "Epoch 29/50\n",
            "32/32 - 0s - loss: 2.3735e-05 - 49ms/epoch - 2ms/step\n",
            "Epoch 30/50\n",
            "32/32 - 0s - loss: 2.2801e-05 - 53ms/epoch - 2ms/step\n",
            "Epoch 31/50\n",
            "32/32 - 0s - loss: 2.1711e-05 - 54ms/epoch - 2ms/step\n",
            "Epoch 32/50\n",
            "32/32 - 0s - loss: 2.1662e-05 - 54ms/epoch - 2ms/step\n",
            "Epoch 33/50\n",
            "32/32 - 0s - loss: 2.8052e-05 - 54ms/epoch - 2ms/step\n",
            "Epoch 34/50\n",
            "32/32 - 0s - loss: 3.0152e-05 - 57ms/epoch - 2ms/step\n",
            "Epoch 35/50\n",
            "32/32 - 0s - loss: 2.1541e-05 - 67ms/epoch - 2ms/step\n",
            "Epoch 36/50\n",
            "32/32 - 0s - loss: 2.2838e-05 - 68ms/epoch - 2ms/step\n",
            "Epoch 37/50\n",
            "32/32 - 0s - loss: 2.7736e-05 - 51ms/epoch - 2ms/step\n",
            "Epoch 38/50\n",
            "32/32 - 0s - loss: 3.0078e-05 - 58ms/epoch - 2ms/step\n",
            "Epoch 39/50\n",
            "32/32 - 0s - loss: 2.2520e-05 - 56ms/epoch - 2ms/step\n",
            "Epoch 40/50\n",
            "32/32 - 0s - loss: 2.0024e-05 - 56ms/epoch - 2ms/step\n",
            "Epoch 41/50\n",
            "32/32 - 0s - loss: 1.6817e-05 - 65ms/epoch - 2ms/step\n",
            "Epoch 42/50\n",
            "32/32 - 0s - loss: 1.9604e-05 - 55ms/epoch - 2ms/step\n",
            "Epoch 43/50\n",
            "32/32 - 0s - loss: 2.4292e-05 - 64ms/epoch - 2ms/step\n",
            "Epoch 44/50\n",
            "32/32 - 0s - loss: 2.2760e-05 - 59ms/epoch - 2ms/step\n",
            "Epoch 45/50\n",
            "32/32 - 0s - loss: 2.6669e-05 - 53ms/epoch - 2ms/step\n",
            "Epoch 46/50\n",
            "32/32 - 0s - loss: 2.0607e-05 - 53ms/epoch - 2ms/step\n",
            "Epoch 47/50\n",
            "32/32 - 0s - loss: 3.1424e-05 - 54ms/epoch - 2ms/step\n",
            "Epoch 48/50\n",
            "32/32 - 0s - loss: 2.7087e-05 - 52ms/epoch - 2ms/step\n",
            "Epoch 49/50\n",
            "32/32 - 0s - loss: 2.5457e-05 - 54ms/epoch - 2ms/step\n",
            "Epoch 50/50\n",
            "32/32 - 0s - loss: 3.2784e-05 - 58ms/epoch - 2ms/step\n"
          ]
        },
        {
          "output_type": "execute_result",
          "data": {
            "text/plain": [
              "<keras.callbacks.History at 0x7f8299c67f10>"
            ]
          },
          "metadata": {},
          "execution_count": 21
        }
      ]
    },
    {
      "cell_type": "code",
      "source": [
        ""
      ],
      "metadata": {
        "id": "gkuP7aymZUcr"
      },
      "execution_count": null,
      "outputs": []
    },
    {
      "cell_type": "markdown",
      "source": [
        "### Predict a Sample Product(s)"
      ],
      "metadata": {
        "id": "GsPJlIzV4rSh"
      }
    }
  ]
}