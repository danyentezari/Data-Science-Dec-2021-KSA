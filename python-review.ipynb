{
 "cells": [
  {
   "cell_type": "markdown",
   "metadata": {},
   "source": [
    "# Python Review\n",
    "- Variables\n",
    "- Control Statements\n",
    "- Data Types\n",
    "- Functions\n",
    "- Object\n",
    "- Class"
   ]
  },
  {
   "cell_type": "markdown",
   "metadata": {},
   "source": [
    "### Variables"
   ]
  },
  {
   "cell_type": "code",
   "execution_count": 3,
   "metadata": {},
   "outputs": [
    {
     "name": "stdout",
     "output_type": "stream",
     "text": [
      "Ahmed\n"
     ]
    }
   ],
   "source": [
    "# Variables allow us to retrieve data written into memory\n",
    "# and they be reassigned\n",
    "patientName = \"Ahmed\"\n",
    "patientName = \"Mohammad\"\n",
    "print(patientName)"
   ]
  },
  {
   "cell_type": "markdown",
   "metadata": {},
   "source": [
    "### Control Statements"
   ]
  },
  {
   "cell_type": "code",
   "execution_count": 15,
   "metadata": {},
   "outputs": [
    {
     "name": "stdout",
     "output_type": "stream",
     "text": [
      "1990\n",
      "1992\n",
      "1991\n",
      "1991\n"
     ]
    }
   ],
   "source": [
    "# control statements:\n",
    "# if/else\n",
    "# for\n",
    "# while\n",
    "\n",
    "# Example of If/else\n",
    "# bmiOfPatient = 30\n",
    "# bmiNormal = 25\n",
    "\n",
    "# if bmiOfPatient <= bmiNormal:\n",
    "#     print(\"Normal\")\n",
    "# else:\n",
    "#     print(\"Overweight\")\n",
    "\n",
    "\n",
    "# Example of for\n",
    "patient_dob = [\n",
    "    '1990',\n",
    "    '1992',\n",
    "    '1991',\n",
    "    '1991',\n",
    "    '1980',\n",
    "    '1982',\n",
    "    '1975'\n",
    "]\n",
    "\n",
    "patient_dob_90s = [1990, 1992, 1991, 1991]\n",
    "\n",
    "for dob in patient_dob:\n",
    "    if int(dob) >= 1990:\n",
    "       patient_dob_90s.append(dob)\n",
    "\n",
    "\n",
    "\n",
    "# Example of while"
   ]
  },
  {
   "cell_type": "markdown",
   "metadata": {},
   "source": [
    "### Data Types"
   ]
  },
  {
   "cell_type": "code",
   "execution_count": null,
   "metadata": {},
   "outputs": [],
   "source": [
    "# Data Types\n",
    "# Integer\n",
    "# Float (32bit and 64bit)\n",
    "# String\n",
    "# Boolean\n",
    "# Datetime\n",
    "# None\n",
    "# Object\n",
    "\n",
    "# String\n",
    "\"$100,000\"\n",
    "\n",
    "# Integer\n",
    "100000\n",
    "\n",
    "# Float\n",
    "100000.0\n",
    "\n",
    "# Boolean\n",
    "True \n",
    "False\n",
    "\n",
    "# None\n",
    "None\n",
    "\n",
    "# Object (instance of class)\n",
    "model1 = RandomForestClassifier()\n",
    "\n",
    "model2 = RandomForestClassifier()"
   ]
  },
  {
   "cell_type": "markdown",
   "metadata": {},
   "source": [
    "### Data Types: Data Structures"
   ]
  },
  {
   "cell_type": "code",
   "execution_count": 13,
   "metadata": {},
   "outputs": [
    {
     "name": "stdout",
     "output_type": "stream",
     "text": [
      "100\n",
      "['1990', '1992', '1991']\n",
      "['1991', '1980', '1982', '1975']\n",
      "Dubai\n",
      "King Fahd International\n",
      "King Fahd International\n"
     ]
    }
   ],
   "source": [
    "# Data Structures\n",
    "# Lists\n",
    "# Sets\n",
    "# Tuples\n",
    "# Dictionaries\n",
    "\n",
    "\n",
    "# Lists\n",
    "# indexed\n",
    "# mutable\n",
    "patient_weights = [\n",
    "    67,             # 0\n",
    "    99,             # 1\n",
    "    100,            # 2\n",
    "    55,             # 3\n",
    "    49,             # 4\n",
    "    87,             # 5\n",
    "    55              # 6\n",
    "]\n",
    "print( patient_weights[2] )\n",
    "\n",
    "# example with List Comprehension\n",
    "patient_dob = [\n",
    "    '1990',\n",
    "    '1992',\n",
    "    '1991',\n",
    "    '1991',\n",
    "    '1980',\n",
    "    '1982',\n",
    "    '1975'\n",
    "]\n",
    "print( patient_dob[0:3] )\n",
    "print( patient_dob[3:] )\n",
    "\n",
    "\n",
    "# Sets\n",
    "# unordered\n",
    "# mutable\n",
    "# values must be unique\n",
    "days_of_week = {'sat','sun','mon','tue','wed','thu','fri'}\n",
    "\n",
    "\n",
    "# Tuple\n",
    "# repeat values\n",
    "# immutable\n",
    "uae = ('Abu Dhabi','Dubai','Sharjah','Ajman','Umm Al Quwain','Ras Al Khaimah','Fujairah')\n",
    "print(uae[1])\n",
    "\n",
    "\n",
    "# Dictionary\n",
    "# unique keys\n",
    "# custom keys\n",
    "# keys are mandatory\n",
    "ksa_airports = [\n",
    "    'King Khalid International',\n",
    "    'King Abdulaziz International',\n",
    "    'King Fahd International'\n",
    "]\n",
    "\n",
    "print( ksa_airports[2] )\n",
    "\n",
    "\n",
    "ksa_airports = {\n",
    "    'dammam': 'King Fahd International',\n",
    "    'riyadh': ['King Khalid International','Military Airbase'],\n",
    "    'jeddah': 'King Abdulaziz International'\n",
    "}\n",
    "\n",
    "\n",
    "print( ksa_airports['riyadh'][0] )\n",
    "\n",
    "\n",
    "gender = {\n",
    "    'Male': 0,\n",
    "    'Female': 1\n",
    "}"
   ]
  },
  {
   "cell_type": "code",
   "execution_count": 22,
   "metadata": {},
   "outputs": [
    {
     "data": {
      "text/plain": [
       "['pid8913', 'pid9912', 'pid6610']"
      ]
     },
     "execution_count": 22,
     "metadata": {},
     "output_type": "execute_result"
    }
   ],
   "source": [
    "list(set(['pid9912','pid8913','pid6610','pid9912']))"
   ]
  },
  {
   "cell_type": "code",
   "execution_count": null,
   "metadata": {},
   "outputs": [],
   "source": [
    "# List Methods\n",
    "# https://www.w3schools.com/python/python_ref_list.asp\n",
    "\n",
    "# .append()                 Add element at end of list\n",
    "# .pop()                    Remove element from end of list (or specified index)\n",
    "# .insert()                 Add element at specified index\n",
    "# .remove()                 Remove by value"
   ]
  },
  {
   "cell_type": "markdown",
   "metadata": {},
   "source": [
    "### Functions"
   ]
  },
  {
   "cell_type": "code",
   "execution_count": 25,
   "metadata": {},
   "outputs": [],
   "source": [
    "def sumTwoNumbers(numA, numB):\n",
    "   result = 3 + 5\n",
    "   return result"
   ]
  },
  {
   "cell_type": "code",
   "execution_count": null,
   "metadata": {},
   "outputs": [],
   "source": [
    "sumTwoNumbers(5,6)"
   ]
  },
  {
   "cell_type": "markdown",
   "metadata": {},
   "source": [
    "### Class"
   ]
  },
  {
   "cell_type": "code",
   "execution_count": null,
   "metadata": {},
   "outputs": [],
   "source": [
    "class Car():\n",
    "\n",
    "    # Properties (Attributes)\n",
    "    color = \"\"\n",
    "    type = \"\"\n",
    "    engine = \"\"\n",
    "    brand = \"\"\n",
    "    model = \"\"\n",
    "    maxSpeed = 0\n",
    "    speed = 0\n",
    "\n",
    "\n",
    "    def __init__(self, colorArg, typeArg, engineArg, modelArg, brandArg):\n",
    "        self.color = colorArg\n",
    "        self.type = typeArg\n",
    "        self.engine = engineArg\n",
    "        self.model = modelArg\n",
    "        self.brand = brandArg\n",
    "\n",
    "\n",
    "    # Methods\n",
    "    def accelerate(self):\n",
    "        self.speed  = 30\n",
    "\n",
    "    def brake(self):\n",
    "        self.accelerate(0)\n",
    "        #\n",
    "        #\n",
    "\n",
    "    def autopilot(self):\n",
    "        #\n",
    "        #\n",
    "        #\n",
    "\n",
    "\n",
    "\n",
    "hondaCivic = Car(\"blue\", \"sedan\", \"idontknow\", \"Civic\", \"Honda\", 220)\n",
    "\n",
    "hondaCivic.accelerate()\n",
    "hondaCivic.brake()\n",
    "hondaCivic.color\n",
    "\n",
    "\n",
    "teslaModelX = Car(\"black\",\"sedan\",\"electric\",\"Model X\", \"Tesla\")"
   ]
  }
 ],
 "metadata": {
  "interpreter": {
   "hash": "e774977668b7c0ae8309835a5187aa7fbf7669e7d0bb59755bc63e573643edcd"
  },
  "kernelspec": {
   "display_name": "Python 3.7.4 64-bit",
   "language": "python",
   "name": "python3"
  },
  "language_info": {
   "codemirror_mode": {
    "name": "ipython",
    "version": 3
   },
   "file_extension": ".py",
   "mimetype": "text/x-python",
   "name": "python",
   "nbconvert_exporter": "python",
   "pygments_lexer": "ipython3",
   "version": "3.7.4"
  },
  "orig_nbformat": 4
 },
 "nbformat": 4,
 "nbformat_minor": 2
}
